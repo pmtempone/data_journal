{
 "cells": [
  {
   "cell_type": "code",
   "execution_count": 2,
   "metadata": {},
   "outputs": [],
   "source": [
    "import pytube\n",
    "url = 'https://www.youtube.com/watch?v=Iju6EjjImGc'\n"
   ]
  },
  {
   "cell_type": "code",
   "execution_count": 4,
   "metadata": {},
   "outputs": [
    {
     "name": "stdout",
     "output_type": "stream",
     "text": [
      "Requirement already satisfied: pytube in /Users/pablotempone/opt/anaconda3/envs/env_prod/lib/python3.7/site-packages (11.0.1)\n",
      "Collecting pytube\n",
      "  Downloading pytube-12.1.0-py3-none-any.whl (56 kB)\n",
      "\u001b[K     |████████████████████████████████| 56 kB 614 kB/s eta 0:00:01\n",
      "\u001b[?25hInstalling collected packages: pytube\n",
      "  Attempting uninstall: pytube\n",
      "    Found existing installation: pytube 11.0.1\n",
      "    Uninstalling pytube-11.0.1:\n",
      "      Successfully uninstalled pytube-11.0.1\n",
      "Successfully installed pytube-12.1.0\n"
     ]
    }
   ],
   "source": [
    "#!pip install --upgrade pytube"
   ]
  },
  {
   "cell_type": "code",
   "execution_count": 6,
   "metadata": {},
   "outputs": [
    {
     "name": "stdout",
     "output_type": "stream",
     "text": [
      "Nuestros 100 años\n"
     ]
    }
   ],
   "source": [
    "    #print(video.title)\n",
    "    "
   ]
  },
  {
   "cell_type": "code",
   "execution_count": 7,
   "metadata": {},
   "outputs": [
    {
     "data": {
      "text/plain": [
       "'/Volumes/Disco_SD/videos/Nuestros 100 años_audio.mp4'"
      ]
     },
     "execution_count": 7,
     "metadata": {},
     "output_type": "execute_result"
    }
   ],
   "source": [
    "youtube = pytube.YouTube(url)\n",
    "video = youtube.streams.filter(res=\"1080p\").first()\n",
    "video.download('/Volumes/Disco_SD/videos',video.title+'_video.mp4')\n",
    "\n",
    "audio = youtube.streams.filter(only_audio=True).first()\n",
    "audio.download('/Volumes/Disco_SD/videos',audio.title+'_audio.mp4')\n"
   ]
  }
 ],
 "metadata": {
  "interpreter": {
   "hash": "95705f66e5c2f700cff74aee036a881aa5d5b1058a59adc9006c6d0619460ca9"
  },
  "kernelspec": {
   "display_name": "Python 3.7.10 ('env_prod')",
   "language": "python",
   "name": "python3"
  },
  "language_info": {
   "codemirror_mode": {
    "name": "ipython",
    "version": 3
   },
   "file_extension": ".py",
   "mimetype": "text/x-python",
   "name": "python",
   "nbconvert_exporter": "python",
   "pygments_lexer": "ipython3",
   "version": "3.7.10"
  },
  "orig_nbformat": 4
 },
 "nbformat": 4,
 "nbformat_minor": 2
}
