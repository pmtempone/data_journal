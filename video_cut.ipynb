{
 "cells": [
  {
   "cell_type": "code",
   "execution_count": 1,
   "metadata": {},
   "outputs": [
    {
     "name": "stdout",
     "output_type": "stream",
     "text": [
      "https://www.youtube.com/watch?v=ikDSTuSV1ek&list=PLz5WpqIiMDNHEeRtavQnDbpA6fR6wyYaU&index=13\n"
     ]
    }
   ],
   "source": [
    "import pytube\n",
    "\n",
    "url = ['https://www.youtube.com/watch?v=ikDSTuSV1ek&list=PLz5WpqIiMDNHEeRtavQnDbpA6fR6wyYaU&index=13']\n",
    "\n",
    "for i in url:\n",
    "    print(i)\n",
    "    youtube = pytube.YouTube(i)\n",
    "    video = youtube.streams.get_highest_resolution()\n",
    "    video.download()"
   ]
  },
  {
   "cell_type": "code",
   "execution_count": 2,
   "metadata": {},
   "outputs": [
    {
     "name": "stdout",
     "output_type": "stream",
     "text": [
      "Moviepy - Running:\n",
      ">>> \"+ \" \".join(cmd)\n",
      "Moviepy - Command successful\n"
     ]
    }
   ],
   "source": [
    "from moviepy.video.io.ffmpeg_tools import ffmpeg_extract_subclip\n",
    "ffmpeg_extract_subclip(\"serie new Amsterdam tem 1 Capitulo 3x12.mp4\", 60, 600, targetname=\"test2.mp4\")"
   ]
  },
  {
   "cell_type": "code",
   "execution_count": 12,
   "metadata": {},
   "outputs": [
    {
     "name": "stdout",
     "output_type": "stream",
     "text": [
      "Requirement already satisfied: ffmpeg-python in /Users/pablotempone/opt/anaconda3/envs/env_prod/lib/python3.7/site-packages (0.2.0)\n",
      "Requirement already satisfied: future in /Users/pablotempone/opt/anaconda3/envs/env_prod/lib/python3.7/site-packages (from ffmpeg-python) (0.18.2)\n"
     ]
    }
   ],
   "source": [
    "!pip install ffmpeg-python\n",
    "\n"
   ]
  },
  {
   "cell_type": "code",
   "execution_count": 6,
   "metadata": {},
   "outputs": [
    {
     "name": "stderr",
     "output_type": "stream",
     "text": [
      "chunk:   1%|          | 45/6216 [00:00<00:14, 435.57it/s, now=None]"
     ]
    },
    {
     "name": "stdout",
     "output_type": "stream",
     "text": [
      "Moviepy - Building video newVideo.mp4.\n",
      "MoviePy - Writing audio in newVideoTEMP_MPY_wvf_snd.mp3\n"
     ]
    },
    {
     "name": "stderr",
     "output_type": "stream",
     "text": [
      "t:   0%|          | 6/8456 [00:00<02:39, 52.91it/s, now=None]"
     ]
    },
    {
     "name": "stdout",
     "output_type": "stream",
     "text": [
      "MoviePy - Done.\n",
      "Moviepy - Writing video newVideo.mp4\n",
      "\n"
     ]
    },
    {
     "name": "stderr",
     "output_type": "stream",
     "text": []
    },
    {
     "name": "stdout",
     "output_type": "stream",
     "text": [
      "Moviepy - Done !\n",
      "Moviepy - video ready newVideo.mp4\n"
     ]
    }
   ],
   "source": [
    "#concat videos\n",
    "\n",
    "from moviepy.editor import VideoFileClip, concatenate_videoclips, concatenate_audioclips, CompositeAudioClip\n",
    "\n",
    "# Read files\n",
    "vid1 = VideoFileClip(\"test2.mp4\")\n",
    "vid2 = VideoFileClip(\"serie new Amsterdam tem 1 Capitulo 3x13.mp4\")\n",
    "#vid3 = VideoFileClip(\"video3.mp4\")\n",
    "\n",
    "vid1.audio.write_audiofile(r\"output1.mp3\")  #Here 'output.mp3' is the name of the audio file\n",
    "vid2.audio.write_audiofile(r\"output2.mp3\")  #Here 'output.mp3' is the name of the audio file\n",
    "\n",
    "final_clip = concatenate_audioclips([vid1,vid2])\n",
    "final_clip.write_audiofile('audio_final.mp3')\n",
    "\n",
    "new_audioclip = CompositeAudioClip([videoclip.audio, audioclip])\n",
    "videoclip.audio = new_audioclip\n",
    "\n",
    "# Concat them\n",
    "final = concatenate_videoclips([vid1, vid2])\n",
    "\n",
    "# Write output to the file\n",
    "final.write_videofile(\"newVideo.mp4\", codec='libx264')\n",
    "\n"
   ]
  },
  {
   "cell_type": "code",
   "execution_count": 8,
   "metadata": {},
   "outputs": [
    {
     "name": "stderr",
     "output_type": "stream",
     "text": [
      "chunk:   3%|▎         | 66/2445 [00:00<00:03, 657.37it/s, now=None]"
     ]
    },
    {
     "name": "stdout",
     "output_type": "stream",
     "text": [
      "MoviePy - Writing audio in output1.mp3\n"
     ]
    },
    {
     "name": "stderr",
     "output_type": "stream",
     "text": [
      "chunk:   2%|▏         | 66/3771 [00:00<00:05, 651.59it/s, now=None]"
     ]
    },
    {
     "name": "stdout",
     "output_type": "stream",
     "text": [
      "MoviePy - Done.\n",
      "MoviePy - Writing audio in output2.mp3\n"
     ]
    },
    {
     "name": "stderr",
     "output_type": "stream",
     "text": [
      "chunk:   1%|          | 38/6216 [00:00<00:17, 347.56it/s, now=None]"
     ]
    },
    {
     "name": "stdout",
     "output_type": "stream",
     "text": [
      "MoviePy - Done.\n",
      "MoviePy - Writing audio in audio_final.mp3\n"
     ]
    },
    {
     "name": "stderr",
     "output_type": "stream",
     "text": [
      "chunk:   0%|          | 2/6216 [00:00<06:03, 17.12it/s, now=None]"
     ]
    },
    {
     "name": "stdout",
     "output_type": "stream",
     "text": [
      "MoviePy - Done.\n",
      "Moviepy - Building video new_filename.mp4.\n",
      "MoviePy - Writing audio in new_filenameTEMP_MPY_wvf_snd.mp3\n"
     ]
    },
    {
     "name": "stderr",
     "output_type": "stream",
     "text": [
      "t:   0%|          | 4/8456 [00:00<03:35, 39.28it/s, now=None]"
     ]
    },
    {
     "name": "stdout",
     "output_type": "stream",
     "text": [
      "MoviePy - Done.\n",
      "Moviepy - Writing video new_filename.mp4\n",
      "\n"
     ]
    },
    {
     "name": "stderr",
     "output_type": "stream",
     "text": []
    },
    {
     "name": "stdout",
     "output_type": "stream",
     "text": [
      "Moviepy - Done !\n",
      "Moviepy - video ready new_filename.mp4\n"
     ]
    }
   ],
   "source": [
    "#concat videos\n",
    "\n",
    "from moviepy.editor import VideoFileClip, concatenate_videoclips, concatenate_audioclips, CompositeAudioClip\n",
    "\n",
    "# Read files\n",
    "vid1 = VideoFileClip(\"test2.mp4\")\n",
    "vid2 = VideoFileClip(\"serie new Amsterdam tem 1 Capitulo 3x13.mp4\")\n",
    "#vid3 = VideoFileClip(\"video3.mp4\")\n",
    "\n",
    "vid1.audio.write_audiofile(r\"output1.mp3\")  #Here 'output.mp3' is the name of the audio file\n",
    "vid2.audio.write_audiofile(r\"output2.mp3\")  #Here 'output.mp3' is the name of the audio file\n",
    "\n",
    "final_clip = concatenate_audioclips([vid1.audio,vid2.audio])\n",
    "final_clip.write_audiofile('audio_final.mp3')\n",
    "\n",
    "new_audioclip = CompositeAudioClip([final.audio, final_clip])\n",
    "final.audio = new_audioclip\n",
    "final.write_videofile(\"new_filename.mp4\")"
   ]
  },
  {
   "cell_type": "code",
   "execution_count": 10,
   "metadata": {},
   "outputs": [
    {
     "name": "stderr",
     "output_type": "stream",
     "text": [
      "chunk:   1%|          | 48/6216 [00:00<00:12, 478.97it/s, now=None]"
     ]
    },
    {
     "name": "stdout",
     "output_type": "stream",
     "text": [
      "Moviepy - Building video context.mp4.\n",
      "MoviePy - Writing audio in contextTEMP_MPY_wvf_snd.mp3\n"
     ]
    },
    {
     "name": "stderr",
     "output_type": "stream",
     "text": [
      "t:   0%|          | 8/8457 [00:00<01:48, 77.90it/s, now=None]"
     ]
    },
    {
     "name": "stdout",
     "output_type": "stream",
     "text": [
      "MoviePy - Done.\n",
      "Moviepy - Writing video context.mp4\n",
      "\n"
     ]
    },
    {
     "name": "stderr",
     "output_type": "stream",
     "text": []
    },
    {
     "name": "stdout",
     "output_type": "stream",
     "text": [
      "Moviepy - Done !\n",
      "Moviepy - video ready context.mp4\n"
     ]
    }
   ],
   "source": [
    "from moviepy.editor import *\n",
    "videoclip = VideoFileClip(\"new_filename.mp4\")\n",
    "audioclip = AudioFileClip(\"audio_final.mp3\")\n",
    "\n",
    "new_audioclip = CompositeAudioClip([videoclip.audio, audioclip])\n",
    "new_video = videoclip.set_audio(new_audioclip)\n",
    "#videoclip.audio = new_audioclip\n",
    "\n",
    "new_video.write_videofile(\"context.mp4\")"
   ]
  },
  {
   "cell_type": "code",
   "execution_count": 24,
   "metadata": {},
   "outputs": [
    {
     "name": "stdout",
     "output_type": "stream",
     "text": [
      "Moviepy - Running:\n",
      ">>> \"+ \" \".join(cmd)\n",
      "Moviepy - Command successful\n"
     ]
    }
   ],
   "source": [
    "import ffmpeg._ffmpeg as ff\n",
    "from moviepy.video.io.ffmpeg_tools import ffmpeg_merge_video_audio\n",
    "\n",
    "input_video = ff.input('new_filename.mp4')\n",
    "\n",
    "input_audio = ff.input('audio_final.mp3')\n",
    "\n",
    "ffmpeg_merge_video_audio('new_filename.mp4', 'audio_final.mp3','context.mp4')\n"
   ]
  }
 ],
 "metadata": {
  "interpreter": {
   "hash": "95705f66e5c2f700cff74aee036a881aa5d5b1058a59adc9006c6d0619460ca9"
  },
  "kernelspec": {
   "display_name": "Python 3.7.10 64-bit ('env_prod': conda)",
   "language": "python",
   "name": "python3"
  },
  "language_info": {
   "codemirror_mode": {
    "name": "ipython",
    "version": 3
   },
   "file_extension": ".py",
   "mimetype": "text/x-python",
   "name": "python",
   "nbconvert_exporter": "python",
   "pygments_lexer": "ipython3",
   "version": "3.7.10"
  },
  "orig_nbformat": 4
 },
 "nbformat": 4,
 "nbformat_minor": 2
}
