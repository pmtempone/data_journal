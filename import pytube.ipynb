import pytube

url = ['https://www.youtube.com/watch?v=fL9DNtkRJvM&list=PLz5WpqIiMDNHEeRtavQnDbpA6fR6wyYaU&t=60s']

for i in url:
    print(i)
    youtube = pytube.YouTube(i)
    video = youtube.streams.first()
    video.download('/videos')